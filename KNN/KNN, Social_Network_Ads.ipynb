{
 "cells": [
  {
   "cell_type": "code",
   "execution_count": 29,
   "id": "d0c62bcb",
   "metadata": {},
   "outputs": [],
   "source": [
    "import numpy as np\n",
    "import pandas as pd\n",
    "import matplotlib.pyplot as plt\n",
    "import seaborn as sns\n",
    "%matplotlib inline\n",
    "from sklearn.model_selection import train_test_split\n",
    "from sklearn.neighbors import KNeighborsClassifier\n",
    "from sklearn.metrics import classification_report,confusion_matrix\n",
    "from sklearn.preprocessing import StandardScaler"
   ]
  },
  {
   "cell_type": "code",
   "execution_count": 56,
   "id": "9b0b2907",
   "metadata": {},
   "outputs": [],
   "source": [
    "df = pd.read_csv('Social_Network_Ads.csv')"
   ]
  },
  {
   "cell_type": "code",
   "execution_count": 57,
   "id": "c9f1659c",
   "metadata": {},
   "outputs": [],
   "source": [
    "df = df.drop('User ID', axis=1)"
   ]
  },
  {
   "cell_type": "code",
   "execution_count": 58,
   "id": "8866a291",
   "metadata": {},
   "outputs": [
    {
     "data": {
      "text/html": [
       "<div>\n",
       "<style scoped>\n",
       "    .dataframe tbody tr th:only-of-type {\n",
       "        vertical-align: middle;\n",
       "    }\n",
       "\n",
       "    .dataframe tbody tr th {\n",
       "        vertical-align: top;\n",
       "    }\n",
       "\n",
       "    .dataframe thead th {\n",
       "        text-align: right;\n",
       "    }\n",
       "</style>\n",
       "<table border=\"1\" class=\"dataframe\">\n",
       "  <thead>\n",
       "    <tr style=\"text-align: right;\">\n",
       "      <th></th>\n",
       "      <th>Gender</th>\n",
       "      <th>Age</th>\n",
       "      <th>EstimatedSalary</th>\n",
       "      <th>Purchased</th>\n",
       "    </tr>\n",
       "  </thead>\n",
       "  <tbody>\n",
       "    <tr>\n",
       "      <th>0</th>\n",
       "      <td>Male</td>\n",
       "      <td>19</td>\n",
       "      <td>19000</td>\n",
       "      <td>0</td>\n",
       "    </tr>\n",
       "    <tr>\n",
       "      <th>1</th>\n",
       "      <td>Male</td>\n",
       "      <td>35</td>\n",
       "      <td>20000</td>\n",
       "      <td>0</td>\n",
       "    </tr>\n",
       "    <tr>\n",
       "      <th>2</th>\n",
       "      <td>Female</td>\n",
       "      <td>26</td>\n",
       "      <td>43000</td>\n",
       "      <td>0</td>\n",
       "    </tr>\n",
       "    <tr>\n",
       "      <th>3</th>\n",
       "      <td>Female</td>\n",
       "      <td>27</td>\n",
       "      <td>57000</td>\n",
       "      <td>0</td>\n",
       "    </tr>\n",
       "    <tr>\n",
       "      <th>4</th>\n",
       "      <td>Male</td>\n",
       "      <td>19</td>\n",
       "      <td>76000</td>\n",
       "      <td>0</td>\n",
       "    </tr>\n",
       "  </tbody>\n",
       "</table>\n",
       "</div>"
      ],
      "text/plain": [
       "   Gender  Age  EstimatedSalary  Purchased\n",
       "0    Male   19            19000          0\n",
       "1    Male   35            20000          0\n",
       "2  Female   26            43000          0\n",
       "3  Female   27            57000          0\n",
       "4    Male   19            76000          0"
      ]
     },
     "execution_count": 58,
     "metadata": {},
     "output_type": "execute_result"
    }
   ],
   "source": [
    "df.head()"
   ]
  },
  {
   "cell_type": "code",
   "execution_count": 52,
   "id": "02d2de93",
   "metadata": {},
   "outputs": [
    {
     "data": {
      "text/html": [
       "<div>\n",
       "<style scoped>\n",
       "    .dataframe tbody tr th:only-of-type {\n",
       "        vertical-align: middle;\n",
       "    }\n",
       "\n",
       "    .dataframe tbody tr th {\n",
       "        vertical-align: top;\n",
       "    }\n",
       "\n",
       "    .dataframe thead th {\n",
       "        text-align: right;\n",
       "    }\n",
       "</style>\n",
       "<table border=\"1\" class=\"dataframe\">\n",
       "  <thead>\n",
       "    <tr style=\"text-align: right;\">\n",
       "      <th></th>\n",
       "      <th>Age</th>\n",
       "      <th>EstimatedSalary</th>\n",
       "      <th>Purchased</th>\n",
       "    </tr>\n",
       "  </thead>\n",
       "  <tbody>\n",
       "    <tr>\n",
       "      <th>count</th>\n",
       "      <td>400.000000</td>\n",
       "      <td>400.000000</td>\n",
       "      <td>400.000000</td>\n",
       "    </tr>\n",
       "    <tr>\n",
       "      <th>mean</th>\n",
       "      <td>37.655000</td>\n",
       "      <td>69742.500000</td>\n",
       "      <td>0.357500</td>\n",
       "    </tr>\n",
       "    <tr>\n",
       "      <th>std</th>\n",
       "      <td>10.482877</td>\n",
       "      <td>34096.960282</td>\n",
       "      <td>0.479864</td>\n",
       "    </tr>\n",
       "    <tr>\n",
       "      <th>min</th>\n",
       "      <td>18.000000</td>\n",
       "      <td>15000.000000</td>\n",
       "      <td>0.000000</td>\n",
       "    </tr>\n",
       "    <tr>\n",
       "      <th>25%</th>\n",
       "      <td>29.750000</td>\n",
       "      <td>43000.000000</td>\n",
       "      <td>0.000000</td>\n",
       "    </tr>\n",
       "    <tr>\n",
       "      <th>50%</th>\n",
       "      <td>37.000000</td>\n",
       "      <td>70000.000000</td>\n",
       "      <td>0.000000</td>\n",
       "    </tr>\n",
       "    <tr>\n",
       "      <th>75%</th>\n",
       "      <td>46.000000</td>\n",
       "      <td>88000.000000</td>\n",
       "      <td>1.000000</td>\n",
       "    </tr>\n",
       "    <tr>\n",
       "      <th>max</th>\n",
       "      <td>60.000000</td>\n",
       "      <td>150000.000000</td>\n",
       "      <td>1.000000</td>\n",
       "    </tr>\n",
       "  </tbody>\n",
       "</table>\n",
       "</div>"
      ],
      "text/plain": [
       "              Age  EstimatedSalary   Purchased\n",
       "count  400.000000       400.000000  400.000000\n",
       "mean    37.655000     69742.500000    0.357500\n",
       "std     10.482877     34096.960282    0.479864\n",
       "min     18.000000     15000.000000    0.000000\n",
       "25%     29.750000     43000.000000    0.000000\n",
       "50%     37.000000     70000.000000    0.000000\n",
       "75%     46.000000     88000.000000    1.000000\n",
       "max     60.000000    150000.000000    1.000000"
      ]
     },
     "execution_count": 52,
     "metadata": {},
     "output_type": "execute_result"
    }
   ],
   "source": [
    "df.describe()"
   ]
  },
  {
   "cell_type": "code",
   "execution_count": 17,
   "id": "c3a4afb4",
   "metadata": {},
   "outputs": [
    {
     "data": {
      "text/plain": [
       "<seaborn.axisgrid.PairGrid at 0x2dfc6a81970>"
      ]
     },
     "execution_count": 17,
     "metadata": {},
     "output_type": "execute_result"
    },
    {
     "data": {
      "image/png": "[encoded data removed]",
      "text/plain": [
       "<Figure size 540x540 with 12 Axes>"
      ]
     },
     "metadata": {
      "needs_background": "light"
     },
     "output_type": "display_data"
    }
   ],
   "source": [
    "## Just a general birdeye view on the dataset\n",
    "sns.pairplot(df)"
   ]
  },
  {
   "cell_type": "code",
   "execution_count": 22,
   "id": "6dff646f",
   "metadata": {},
   "outputs": [
    {
     "data": {
      "text/plain": [
       "<AxesSubplot:xlabel='Gender', ylabel='count'>"
      ]
     },
     "execution_count": 22,
     "metadata": {},
     "output_type": "execute_result"
    },
    {
     "data": {
      "image/png": "[encoded data removed]",
      "text/plain": [
       "<Figure size 432x288 with 1 Axes>"
      ]
     },
     "metadata": {
      "needs_background": "light"
     },
     "output_type": "display_data"
    }
   ],
   "source": [
    "## Plotting a Countplot of How many people purchased or not, with respect to their Genders \n",
    "\n",
    "sns.countplot(x='Gender', hue='Purchased', data=df)"
   ]
  },
  {
   "cell_type": "code",
   "execution_count": 26,
   "id": "caffabe9",
   "metadata": {},
   "outputs": [
    {
     "data": {
      "text/plain": [
       "<AxesSubplot:xlabel='Age', ylabel='EstimatedSalary'>"
      ]
     },
     "execution_count": 26,
     "metadata": {},
     "output_type": "execute_result"
    },
    {
     "data": {
      "image/png": "[encoded data removed]",
      "text/plain": [
       "<Figure size 1080x720 with 1 Axes>"
      ]
     },
     "metadata": {
      "needs_background": "light"
     },
     "output_type": "display_data"
    }
   ],
   "source": [
    "## A plot Estimated Salary vs Age with respect to if they purchased the product or not\n",
    "plt.figure(figsize=(15,10))\n",
    "sns.scatterplot(x='Age', y='EstimatedSalary', data=df, hue='Purchased', s=80)"
   ]
  },
  {
   "cell_type": "code",
   "execution_count": 28,
   "id": "9bc248ae",
   "metadata": {},
   "outputs": [
    {
     "data": {
      "text/plain": [
       "<AxesSubplot:xlabel='Age', ylabel='Purchased'>"
      ]
     },
     "execution_count": 28,
     "metadata": {},
     "output_type": "execute_result"
    },
    {
     "data": {
      "image/png": "[encoded data removed]",
      "text/plain": [
       "<Figure size 576x576 with 1 Axes>"
      ]
     },
     "metadata": {
      "needs_background": "light"
     },
     "output_type": "display_data"
    }
   ],
   "source": [
    "plt.figure(figsize=(8,8))\n",
    "sns.scatterplot(x='Age', y='Purchased', data=df, hue='Gender', s=80)"
   ]
  },
  {
   "cell_type": "code",
   "execution_count": 59,
   "id": "1d442db7",
   "metadata": {},
   "outputs": [],
   "source": [
    "sex = pd.get_dummies(df['Gender'], drop_first=True)"
   ]
  },
  {
   "cell_type": "code",
   "execution_count": 60,
   "id": "8ccac13f",
   "metadata": {},
   "outputs": [],
   "source": [
    "sex = sex.rename(columns={'Male':'Sex'})"
   ]
  },
  {
   "cell_type": "code",
   "execution_count": 62,
   "id": "20445412",
   "metadata": {},
   "outputs": [
    {
     "data": {
      "text/plain": [
       "Sex    0\n",
       "dtype: int64"
      ]
     },
     "execution_count": 62,
     "metadata": {},
     "output_type": "execute_result"
    }
   ],
   "source": [
    "sex.isnull().sum()"
   ]
  },
  {
   "cell_type": "code",
   "execution_count": 64,
   "id": "edaa5321",
   "metadata": {},
   "outputs": [],
   "source": [
    "## pandad concat function had issues and was adding random NaN values to the data\n",
    "df['Sex'] = sex"
   ]
  },
  {
   "cell_type": "code",
   "execution_count": 67,
   "id": "0b3652e1",
   "metadata": {},
   "outputs": [
    {
     "data": {
      "text/plain": [
       "Gender             0\n",
       "Age                0\n",
       "EstimatedSalary    0\n",
       "Purchased          0\n",
       "Sex                0\n",
       "dtype: int64"
      ]
     },
     "execution_count": 67,
     "metadata": {},
     "output_type": "execute_result"
    }
   ],
   "source": [
    "df.isnull().sum()"
   ]
  },
  {
   "cell_type": "code",
   "execution_count": 68,
   "id": "ee764464",
   "metadata": {},
   "outputs": [],
   "source": [
    "## Dropping Gender Because we have Sex as a column with 0s and 1s\n",
    "df = df.drop('Gender', axis=1)"
   ]
  },
  {
   "cell_type": "code",
   "execution_count": 78,
   "id": "b4bb99d7",
   "metadata": {},
   "outputs": [
    {
     "data": {
      "text/html": [
       "<div>\n",
       "<style scoped>\n",
       "    .dataframe tbody tr th:only-of-type {\n",
       "        vertical-align: middle;\n",
       "    }\n",
       "\n",
       "    .dataframe tbody tr th {\n",
       "        vertical-align: top;\n",
       "    }\n",
       "\n",
       "    .dataframe thead th {\n",
       "        text-align: right;\n",
       "    }\n",
       "</style>\n",
       "<table border=\"1\" class=\"dataframe\">\n",
       "  <thead>\n",
       "    <tr style=\"text-align: right;\">\n",
       "      <th></th>\n",
       "      <th>Age</th>\n",
       "      <th>EstimatedSalary</th>\n",
       "      <th>Purchased</th>\n",
       "      <th>Sex</th>\n",
       "    </tr>\n",
       "  </thead>\n",
       "  <tbody>\n",
       "    <tr>\n",
       "      <th>0</th>\n",
       "      <td>19</td>\n",
       "      <td>19000</td>\n",
       "      <td>0</td>\n",
       "      <td>1</td>\n",
       "    </tr>\n",
       "    <tr>\n",
       "      <th>1</th>\n",
       "      <td>35</td>\n",
       "      <td>20000</td>\n",
       "      <td>0</td>\n",
       "      <td>1</td>\n",
       "    </tr>\n",
       "    <tr>\n",
       "      <th>2</th>\n",
       "      <td>26</td>\n",
       "      <td>43000</td>\n",
       "      <td>0</td>\n",
       "      <td>0</td>\n",
       "    </tr>\n",
       "    <tr>\n",
       "      <th>3</th>\n",
       "      <td>27</td>\n",
       "      <td>57000</td>\n",
       "      <td>0</td>\n",
       "      <td>0</td>\n",
       "    </tr>\n",
       "    <tr>\n",
       "      <th>4</th>\n",
       "      <td>19</td>\n",
       "      <td>76000</td>\n",
       "      <td>0</td>\n",
       "      <td>1</td>\n",
       "    </tr>\n",
       "    <tr>\n",
       "      <th>...</th>\n",
       "      <td>...</td>\n",
       "      <td>...</td>\n",
       "      <td>...</td>\n",
       "      <td>...</td>\n",
       "    </tr>\n",
       "    <tr>\n",
       "      <th>395</th>\n",
       "      <td>46</td>\n",
       "      <td>41000</td>\n",
       "      <td>1</td>\n",
       "      <td>0</td>\n",
       "    </tr>\n",
       "    <tr>\n",
       "      <th>396</th>\n",
       "      <td>51</td>\n",
       "      <td>23000</td>\n",
       "      <td>1</td>\n",
       "      <td>1</td>\n",
       "    </tr>\n",
       "    <tr>\n",
       "      <th>397</th>\n",
       "      <td>50</td>\n",
       "      <td>20000</td>\n",
       "      <td>1</td>\n",
       "      <td>0</td>\n",
       "    </tr>\n",
       "    <tr>\n",
       "      <th>398</th>\n",
       "      <td>36</td>\n",
       "      <td>33000</td>\n",
       "      <td>0</td>\n",
       "      <td>1</td>\n",
       "    </tr>\n",
       "    <tr>\n",
       "      <th>399</th>\n",
       "      <td>49</td>\n",
       "      <td>36000</td>\n",
       "      <td>1</td>\n",
       "      <td>0</td>\n",
       "    </tr>\n",
       "  </tbody>\n",
       "</table>\n",
       "<p>400 rows × 4 columns</p>\n",
       "</div>"
      ],
      "text/plain": [
       "     Age  EstimatedSalary  Purchased  Sex\n",
       "0     19            19000          0    1\n",
       "1     35            20000          0    1\n",
       "2     26            43000          0    0\n",
       "3     27            57000          0    0\n",
       "4     19            76000          0    1\n",
       "..   ...              ...        ...  ...\n",
       "395   46            41000          1    0\n",
       "396   51            23000          1    1\n",
       "397   50            20000          1    0\n",
       "398   36            33000          0    1\n",
       "399   49            36000          1    0\n",
       "\n",
       "[400 rows x 4 columns]"
      ]
     },
     "execution_count": 78,
     "metadata": {},
     "output_type": "execute_result"
    }
   ],
   "source": [
    "df"
   ]
  },
  {
   "cell_type": "markdown",
   "id": "cd900eed",
   "metadata": {},
   "source": [
    "# Let's Train and Test the data I guess"
   ]
  },
  {
   "cell_type": "markdown",
   "id": "80c49534",
   "metadata": {},
   "source": [
    "### But First "
   ]
  },
  {
   "cell_type": "markdown",
   "id": "34650fe4",
   "metadata": {},
   "source": [
    "### Standardize the data first"
   ]
  },
  {
   "cell_type": "code",
   "execution_count": 73,
   "id": "0739b4d6",
   "metadata": {},
   "outputs": [],
   "source": [
    "X = df.drop('Purchased', axis=1)\n",
    "y = df['Purchased']"
   ]
  },
  {
   "cell_type": "code",
   "execution_count": 74,
   "id": "bb171989",
   "metadata": {},
   "outputs": [],
   "source": [
    "scaler = StandardScaler()"
   ]
  },
  {
   "cell_type": "code",
   "execution_count": 76,
   "id": "73a3aec9",
   "metadata": {},
   "outputs": [
    {
     "data": {
      "text/plain": [
       "StandardScaler()"
      ]
     },
     "execution_count": 76,
     "metadata": {},
     "output_type": "execute_result"
    }
   ],
   "source": [
    "scaler.fit(X)"
   ]
  },
  {
   "cell_type": "code",
   "execution_count": 84,
   "id": "fa1f9d4a",
   "metadata": {},
   "outputs": [
    {
     "data": {
      "text/plain": [
       "array([[-1.78179743, -1.49004624,  1.02020406],\n",
       "       [-0.25358736, -1.46068138,  1.02020406],\n",
       "       [-1.11320552, -0.78528968, -0.98019606],\n",
       "       ...,\n",
       "       [ 1.17910958, -1.46068138, -0.98019606],\n",
       "       [-0.15807423, -1.07893824,  1.02020406],\n",
       "       [ 1.08359645, -0.99084367, -0.98019606]])"
      ]
     },
     "execution_count": 84,
     "metadata": {},
     "output_type": "execute_result"
    }
   ],
   "source": [
    "scaled_features = scaler.transform(X)\n",
    "scaled_features"
   ]
  },
  {
   "cell_type": "code",
   "execution_count": 85,
   "id": "302c385d",
   "metadata": {},
   "outputs": [
    {
     "data": {
      "text/html": [
       "<div>\n",
       "<style scoped>\n",
       "    .dataframe tbody tr th:only-of-type {\n",
       "        vertical-align: middle;\n",
       "    }\n",
       "\n",
       "    .dataframe tbody tr th {\n",
       "        vertical-align: top;\n",
       "    }\n",
       "\n",
       "    .dataframe thead th {\n",
       "        text-align: right;\n",
       "    }\n",
       "</style>\n",
       "<table border=\"1\" class=\"dataframe\">\n",
       "  <thead>\n",
       "    <tr style=\"text-align: right;\">\n",
       "      <th></th>\n",
       "      <th>Age</th>\n",
       "      <th>EstimatedSalary</th>\n",
       "      <th>Sex</th>\n",
       "    </tr>\n",
       "  </thead>\n",
       "  <tbody>\n",
       "    <tr>\n",
       "      <th>0</th>\n",
       "      <td>-1.781797</td>\n",
       "      <td>-1.490046</td>\n",
       "      <td>1.020204</td>\n",
       "    </tr>\n",
       "    <tr>\n",
       "      <th>1</th>\n",
       "      <td>-0.253587</td>\n",
       "      <td>-1.460681</td>\n",
       "      <td>1.020204</td>\n",
       "    </tr>\n",
       "    <tr>\n",
       "      <th>2</th>\n",
       "      <td>-1.113206</td>\n",
       "      <td>-0.785290</td>\n",
       "      <td>-0.980196</td>\n",
       "    </tr>\n",
       "    <tr>\n",
       "      <th>3</th>\n",
       "      <td>-1.017692</td>\n",
       "      <td>-0.374182</td>\n",
       "      <td>-0.980196</td>\n",
       "    </tr>\n",
       "    <tr>\n",
       "      <th>4</th>\n",
       "      <td>-1.781797</td>\n",
       "      <td>0.183751</td>\n",
       "      <td>1.020204</td>\n",
       "    </tr>\n",
       "    <tr>\n",
       "      <th>...</th>\n",
       "      <td>...</td>\n",
       "      <td>...</td>\n",
       "      <td>...</td>\n",
       "    </tr>\n",
       "    <tr>\n",
       "      <th>395</th>\n",
       "      <td>0.797057</td>\n",
       "      <td>-0.844019</td>\n",
       "      <td>-0.980196</td>\n",
       "    </tr>\n",
       "    <tr>\n",
       "      <th>396</th>\n",
       "      <td>1.274623</td>\n",
       "      <td>-1.372587</td>\n",
       "      <td>1.020204</td>\n",
       "    </tr>\n",
       "    <tr>\n",
       "      <th>397</th>\n",
       "      <td>1.179110</td>\n",
       "      <td>-1.460681</td>\n",
       "      <td>-0.980196</td>\n",
       "    </tr>\n",
       "    <tr>\n",
       "      <th>398</th>\n",
       "      <td>-0.158074</td>\n",
       "      <td>-1.078938</td>\n",
       "      <td>1.020204</td>\n",
       "    </tr>\n",
       "    <tr>\n",
       "      <th>399</th>\n",
       "      <td>1.083596</td>\n",
       "      <td>-0.990844</td>\n",
       "      <td>-0.980196</td>\n",
       "    </tr>\n",
       "  </tbody>\n",
       "</table>\n",
       "<p>400 rows × 3 columns</p>\n",
       "</div>"
      ],
      "text/plain": [
       "          Age  EstimatedSalary       Sex\n",
       "0   -1.781797        -1.490046  1.020204\n",
       "1   -0.253587        -1.460681  1.020204\n",
       "2   -1.113206        -0.785290 -0.980196\n",
       "3   -1.017692        -0.374182 -0.980196\n",
       "4   -1.781797         0.183751  1.020204\n",
       "..        ...              ...       ...\n",
       "395  0.797057        -0.844019 -0.980196\n",
       "396  1.274623        -1.372587  1.020204\n",
       "397  1.179110        -1.460681 -0.980196\n",
       "398 -0.158074        -1.078938  1.020204\n",
       "399  1.083596        -0.990844 -0.980196\n",
       "\n",
       "[400 rows x 3 columns]"
      ]
     },
     "execution_count": 85,
     "metadata": {},
     "output_type": "execute_result"
    }
   ],
   "source": [
    "df_feat = pd.DataFrame(scaled_features,columns= X.columns)\n",
    "df_feat"
   ]
  },
  {
   "cell_type": "markdown",
   "id": "8b6cab48",
   "metadata": {},
   "source": [
    "# Train Test Split"
   ]
  },
  {
   "cell_type": "code",
   "execution_count": 86,
   "id": "ea1517ae",
   "metadata": {},
   "outputs": [],
   "source": [
    "X_train, X_test, y_train, y_test = train_test_split(\n",
    "scaled_features, y, test_size=0.33, random_state=42)"
   ]
  },
  {
   "cell_type": "code",
   "execution_count": 87,
   "id": "40fcb730",
   "metadata": {},
   "outputs": [
    {
     "data": {
      "text/plain": [
       "array([[ 1.94321462,  0.74168287, -0.98019606],\n",
       "       [-1.20871865, -1.40195167,  1.02020406],\n",
       "       [ 0.31949142, -0.31545197,  1.02020406],\n",
       "       [-0.92217926,  0.56549373,  1.02020406],\n",
       "       [ 0.41500455,  0.30121002, -0.98019606],\n",
       "       [ 0.41500455,  1.123426  , -0.98019606],\n",
       "       [ 0.79705706,  0.77104772, -0.98019606],\n",
       "       [ 0.89257019,  1.27025028, -0.98019606],\n",
       "       [-0.44461362, -1.22576253, -0.98019606],\n",
       "       [-1.78179743, -1.3138571 ,  1.02020406],\n",
       "       [ 1.08359645,  0.56549373,  1.02020406],\n",
       "       [-0.63563988, -1.60750566, -0.98019606],\n",
       "       [-0.73115301,  0.27184516, -0.98019606],\n",
       "       [ 0.98808332,  2.09246627,  1.02020406],\n",
       "       [-0.54012675,  1.38770971, -0.98019606],\n",
       "       [-0.0625611 ,  0.03692631, -0.98019606],\n",
       "       [-1.87731056,  0.47739916, -0.98019606],\n",
       "       [ 0.41500455,  0.27184516, -0.98019606],\n",
       "       [-1.01769239,  0.41866944, -0.98019606],\n",
       "       [ 0.22397829, -0.13926283,  1.02020406],\n",
       "       [ 1.84770149,  0.12502088,  1.02020406],\n",
       "       [-1.11320552, -1.60750566, -0.98019606],\n",
       "       [-1.11320552,  0.30121002, -0.98019606],\n",
       "       [-0.82666613, -0.78528968,  1.02020406],\n",
       "       [-0.44461362,  2.32738512, -0.98019606],\n",
       "       [ 0.12846516, -0.81465453,  1.02020406],\n",
       "       [ 1.5611621 ,  1.00596657, -0.98019606],\n",
       "       [-0.15807423, -1.07893824,  1.02020406],\n",
       "       [ 0.79705706, -1.1083031 , -0.98019606],\n",
       "       [ 0.22397829,  2.12183112, -0.98019606],\n",
       "       [-0.0625611 , -0.2273574 , -0.98019606],\n",
       "       [-0.82666613,  2.29802026,  1.02020406],\n",
       "       [-0.0625611 , -0.37418169, -0.98019606],\n",
       "       [-0.25358736, -0.57973568,  1.02020406],\n",
       "       [ 0.41500455, -0.49164111, -0.98019606],\n",
       "       [-0.25358736, -0.93211396,  1.02020406],\n",
       "       [ 0.31949142, -1.16703281, -0.98019606],\n",
       "       [ 0.22397829,  0.06629116, -0.98019606],\n",
       "       [-1.11320552, -1.60750566,  1.02020406],\n",
       "       [-0.63563988, -0.05116826, -0.98019606],\n",
       "       [-0.25358736, -0.49164111,  1.02020406],\n",
       "       [-0.25358736, -1.3138571 , -0.98019606],\n",
       "       [-0.73115301,  0.56549373,  1.02020406],\n",
       "       [ 0.31949142,  0.06629116,  1.02020406],\n",
       "       [-0.92217926,  1.56389885,  1.02020406],\n",
       "       [ 0.79705706,  0.35993973, -0.98019606],\n",
       "       [-1.49525804, -0.19799255, -0.98019606],\n",
       "       [ 0.70154394, -1.40195167, -0.98019606],\n",
       "       [-0.73115301, -0.60910054,  1.02020406],\n",
       "       [-0.34910049, -1.3138571 , -0.98019606],\n",
       "       [ 0.22397829,  0.15438573, -0.98019606],\n",
       "       [-0.54012675,  1.38770971, -0.98019606],\n",
       "       [-1.39974491,  0.35993973, -0.98019606],\n",
       "       [-1.11320552,  0.30121002,  1.02020406],\n",
       "       [ 0.98808332,  1.7988177 , -0.98019606],\n",
       "       [ 2.03872775,  2.15119598,  1.02020406],\n",
       "       [-0.25358736, -0.4329114 ,  1.02020406],\n",
       "       [-0.34910049, -0.78528968,  1.02020406],\n",
       "       [ 0.12846516, -0.25672226, -0.98019606],\n",
       "       [-1.01769239,  0.77104772, -0.98019606],\n",
       "       [ 2.13424088,  0.38930459,  1.02020406],\n",
       "       [-1.30423178, -0.4329114 ,  1.02020406],\n",
       "       [ 1.94321462,  2.18056084,  1.02020406],\n",
       "       [ 1.46564897,  1.00596657, -0.98019606],\n",
       "       [-0.25358736,  0.27184516,  1.02020406],\n",
       "       [-0.15807423,  0.85914229,  1.02020406],\n",
       "       [ 1.84770149, -0.28608712,  1.02020406],\n",
       "       [-0.0625611 ,  1.97500684, -0.98019606],\n",
       "       [-0.44461362, -0.78528968,  1.02020406],\n",
       "       [ 0.31949142,  0.03692631, -0.98019606],\n",
       "       [ 1.37013584, -1.43131652, -0.98019606],\n",
       "       [ 1.37013584,  2.35674998,  1.02020406],\n",
       "       [-0.0625611 ,  0.00756145,  1.02020406],\n",
       "       [-1.11320552,  0.41866944, -0.98019606],\n",
       "       [-1.11320552,  0.06629116, -0.98019606],\n",
       "       [-1.11320552, -0.52100597, -0.98019606],\n",
       "       [ 0.31949142, -0.28608712, -0.98019606],\n",
       "       [-0.63563988, -0.10989798,  1.02020406],\n",
       "       [-0.0625611 ,  2.18056084,  1.02020406],\n",
       "       [ 0.03295203, -0.25672226,  1.02020406],\n",
       "       [-0.63563988, -1.04957339, -0.98019606],\n",
       "       [ 0.41500455,  0.15438573, -0.98019606],\n",
       "       [ 0.79705706,  1.38770971,  1.02020406],\n",
       "       [-0.15807423, -0.52100597,  1.02020406],\n",
       "       [ 0.03295203,  0.03692631,  1.02020406],\n",
       "       [ 1.08359645,  0.53612887,  1.02020406],\n",
       "       [ 1.84770149, -1.07893824, -0.98019606],\n",
       "       [ 0.98808332,  2.0043717 , -0.98019606],\n",
       "       [ 0.89257019, -0.57973568, -0.98019606],\n",
       "       [-0.44461362, -0.02180341, -0.98019606],\n",
       "       [-0.0625611 ,  2.23929055, -0.98019606],\n",
       "       [-1.6862843 ,  0.35993973, -0.98019606],\n",
       "       [ 0.22397829, -0.66783025,  1.02020406],\n",
       "       [-0.25358736, -1.40195167,  1.02020406],\n",
       "       [-1.6862843 , -0.99084367, -0.98019606],\n",
       "       [ 0.70154394, -0.72655996, -0.98019606],\n",
       "       [-1.11320552, -0.78528968, -0.98019606],\n",
       "       [ 1.94321462,  0.917872  , -0.98019606],\n",
       "       [ 0.22397829, -0.37418169,  1.02020406],\n",
       "       [ 0.03295203,  1.24088543, -0.98019606],\n",
       "       [-0.0625611 ,  0.30121002, -0.98019606],\n",
       "       [ 1.08359645, -1.22576253,  1.02020406],\n",
       "       [-0.15807423,  0.15438573, -0.98019606],\n",
       "       [ 0.31949142,  0.06629116, -0.98019606],\n",
       "       [-0.25358736, -0.28608712, -0.98019606],\n",
       "       [ 0.51051768,  1.74008799,  1.02020406],\n",
       "       [ 0.31949142,  0.50676401,  1.02020406],\n",
       "       [ 0.03295203,  1.27025028, -0.98019606],\n",
       "       [ 1.94321462, -1.37258681, -0.98019606],\n",
       "       [-1.11320552, -1.1083031 ,  1.02020406],\n",
       "       [-0.54012675, -1.51941109,  1.02020406],\n",
       "       [ 0.31949142, -0.52100597,  1.02020406],\n",
       "       [-0.63563988, -1.51941109,  1.02020406],\n",
       "       [-0.25358736,  0.53612887,  1.02020406],\n",
       "       [ 0.98808332, -1.02020853, -0.98019606],\n",
       "       [-1.01769239,  0.56549373,  1.02020406],\n",
       "       [-0.25358736,  0.80041258, -0.98019606],\n",
       "       [ 0.41500455,  0.09565602,  1.02020406],\n",
       "       [-1.59077117, -0.05116826, -0.98019606],\n",
       "       [ 0.31949142,  0.06629116, -0.98019606],\n",
       "       [-0.44461362, -0.28608712, -0.98019606],\n",
       "       [ 0.12846516,  1.88691227,  1.02020406],\n",
       "       [-0.92217926,  0.41866944, -0.98019606],\n",
       "       [ 0.79705706,  0.53612887,  1.02020406],\n",
       "       [-1.30423178, -0.34481683,  1.02020406],\n",
       "       [-0.63563988,  1.41707457, -0.98019606],\n",
       "       [ 1.17910958,  0.53612887, -0.98019606],\n",
       "       [-1.6862843 ,  0.35993973, -0.98019606],\n",
       "       [-0.54012675,  1.91627713, -0.98019606],\n",
       "       [-1.6862843 ,  0.47739916,  1.02020406],\n",
       "       [-0.25358736, -1.25512738,  1.02020406],\n",
       "       [-0.82666613, -0.78528968,  1.02020406],\n",
       "       [-1.59077117,  0.53612887,  1.02020406],\n",
       "       [-0.25358736, -0.31545197,  1.02020406],\n",
       "       [ 0.70154394, -1.1083031 ,  1.02020406],\n",
       "       [ 2.13424088, -0.81465453,  1.02020406],\n",
       "       [-0.25358736,  0.62422344,  1.02020406],\n",
       "       [-0.25358736, -0.75592482, -0.98019606],\n",
       "       [-1.87731056, -0.75592482, -0.98019606],\n",
       "       [ 0.41500455,  2.32738512,  1.02020406],\n",
       "       [ 0.70154394,  0.27184516,  1.02020406],\n",
       "       [ 0.22397829, -0.28608712, -0.98019606],\n",
       "       [-1.30423178, -1.37258681,  1.02020406],\n",
       "       [-0.44461362, -0.55037082, -0.98019606],\n",
       "       [ 0.41500455,  0.00756145, -0.98019606],\n",
       "       [ 1.65667523,  1.76945285, -0.98019606],\n",
       "       [ 1.17910958, -0.75592482, -0.98019606],\n",
       "       [ 0.98808332,  1.44643942, -0.98019606],\n",
       "       [-1.78179743,  0.18375059,  1.02020406],\n",
       "       [ 0.31949142,  0.06629116, -0.98019606],\n",
       "       [ 0.22397829,  0.03692631,  1.02020406],\n",
       "       [-1.01769239,  0.53612887,  1.02020406],\n",
       "       [-0.15807423,  1.65199342, -0.98019606],\n",
       "       [-0.25358736,  0.15438573,  1.02020406],\n",
       "       [-0.25358736, -0.34481683,  1.02020406],\n",
       "       [-0.34910049,  1.32898   ,  1.02020406],\n",
       "       [-0.25358736,  0.09565602,  1.02020406],\n",
       "       [ 2.13424088,  1.123426  , -0.98019606],\n",
       "       [-1.20871865,  0.50676401,  1.02020406],\n",
       "       [-1.01769239, -0.46227625, -0.98019606],\n",
       "       [-1.59077117, -1.5781408 , -0.98019606],\n",
       "       [-0.0625611 ,  0.12502088,  1.02020406],\n",
       "       [-0.25358736, -0.9027491 ,  1.02020406],\n",
       "       [ 1.5611621 ,  0.00756145,  1.02020406],\n",
       "       [ 0.89257019, -1.16703281, -0.98019606],\n",
       "       [ 0.03295203, -0.57973568, -0.98019606],\n",
       "       [-0.25358736,  2.26865541, -0.98019606],\n",
       "       [-0.25358736,  0.21311545, -0.98019606],\n",
       "       [ 0.31949142,  0.27184516,  1.02020406],\n",
       "       [-0.0625611 , -1.07893824, -0.98019606],\n",
       "       [ 2.13424088, -0.69719511, -0.98019606],\n",
       "       [-0.92217926, -0.31545197, -0.98019606],\n",
       "       [-1.39974491, -0.10989798, -0.98019606],\n",
       "       [-1.39974491, -0.19799255,  1.02020406],\n",
       "       [-0.73115301, -1.54877595,  1.02020406],\n",
       "       [-1.20871865, -1.07893824,  1.02020406],\n",
       "       [ 2.03872775,  0.38930459, -0.98019606],\n",
       "       [ 1.94321462, -0.93211396, -0.98019606],\n",
       "       [-1.87731056,  0.35993973,  1.02020406],\n",
       "       [ 0.79705706, -0.31545197,  1.02020406],\n",
       "       [-1.01769239, -1.54877595, -0.98019606],\n",
       "       [ 1.94321462, -0.66783025, -0.98019606],\n",
       "       [ 0.98808332, -1.16703281, -0.98019606],\n",
       "       [ 1.08359645, -0.13926283,  1.02020406],\n",
       "       [ 1.17910958, -0.99084367, -0.98019606],\n",
       "       [ 1.46564897,  0.06629116,  1.02020406],\n",
       "       [ 0.22397829, -0.37418169,  1.02020406],\n",
       "       [ 1.37013584,  1.29961514, -0.98019606],\n",
       "       [ 2.03872775, -0.81465453, -0.98019606],\n",
       "       [-0.15807423, -0.19799255, -0.98019606],\n",
       "       [ 0.41500455,  1.00596657,  1.02020406],\n",
       "       [-0.0625611 , -0.52100597,  1.02020406],\n",
       "       [ 0.98808332, -1.07893824,  1.02020406],\n",
       "       [ 2.03872775, -1.19639767, -0.98019606],\n",
       "       [-0.0625611 ,  0.27184516,  1.02020406],\n",
       "       [ 0.22397829, -0.25672226,  1.02020406],\n",
       "       [ 1.08359645,  0.12502088,  1.02020406],\n",
       "       [-1.20871865,  0.59485858,  1.02020406],\n",
       "       [-0.73115301, -1.60750566,  1.02020406],\n",
       "       [ 0.22397829,  0.2424803 ,  1.02020406],\n",
       "       [-1.30423178,  0.41866944,  1.02020406],\n",
       "       [ 0.03295203, -0.57973568, -0.98019606],\n",
       "       [ 0.70154394,  1.7988177 , -0.98019606],\n",
       "       [-1.59077117,  0.06629116,  1.02020406],\n",
       "       [-0.25358736, -1.37258681, -0.98019606],\n",
       "       [-0.25358736, -1.46068138,  1.02020406],\n",
       "       [-0.63563988,  0.56549373, -0.98019606],\n",
       "       [-0.73115301,  0.30121002,  1.02020406],\n",
       "       [ 0.89257019, -0.66783025, -0.98019606],\n",
       "       [-1.01769239,  0.59485858,  1.02020406],\n",
       "       [-0.25358736,  0.06629116, -0.98019606],\n",
       "       [-0.73115301,  1.35834485, -0.98019606],\n",
       "       [ 0.12846516,  1.53453399,  1.02020406],\n",
       "       [-0.82666613,  0.38930459, -0.98019606],\n",
       "       [ 0.31949142, -0.19799255, -0.98019606],\n",
       "       [ 0.98808332,  0.59485858,  1.02020406],\n",
       "       [ 0.03295203, -0.31545197,  1.02020406],\n",
       "       [-0.54012675, -1.51941109,  1.02020406],\n",
       "       [ 0.12846516,  0.15438573, -0.98019606],\n",
       "       [-1.11320552,  0.33057487,  1.02020406],\n",
       "       [ 0.12846516,  1.06469629,  1.02020406],\n",
       "       [-1.49525804, -0.4329114 , -0.98019606],\n",
       "       [-0.15807423,  1.41707457,  1.02020406],\n",
       "       [ 2.13424088, -0.81465453,  1.02020406],\n",
       "       [-0.92217926, -0.4329114 , -0.98019606],\n",
       "       [ 1.27462271,  1.88691227, -0.98019606],\n",
       "       [ 1.08359645, -1.22576253,  1.02020406],\n",
       "       [-0.15807423, -0.28608712,  1.02020406],\n",
       "       [ 1.75218836,  1.00596657, -0.98019606],\n",
       "       [-1.01769239, -0.34481683, -0.98019606],\n",
       "       [-1.30423178, -1.1083031 , -0.98019606],\n",
       "       [-0.34910049,  0.06629116, -0.98019606],\n",
       "       [-0.92217926, -1.1083031 ,  1.02020406],\n",
       "       [ 1.17910958, -1.46068138, -0.98019606],\n",
       "       [-0.44461362, -0.84401939, -0.98019606],\n",
       "       [-0.82666613, -0.66783025, -0.98019606],\n",
       "       [-1.49525804, -1.51941109,  1.02020406],\n",
       "       [-0.73115301,  1.91627713,  1.02020406],\n",
       "       [ 0.89257019,  1.03533143,  1.02020406],\n",
       "       [ 0.79705706,  0.27184516,  1.02020406],\n",
       "       [ 0.98808332,  1.88691227, -0.98019606],\n",
       "       [ 0.89257019, -0.60910054, -0.98019606],\n",
       "       [ 1.08359645,  2.09246627, -0.98019606],\n",
       "       [-0.54012675,  0.88850715,  1.02020406],\n",
       "       [ 0.03295203,  0.03692631,  1.02020406],\n",
       "       [-1.78179743, -1.28449224, -0.98019606],\n",
       "       [-0.0625611 ,  0.21311545,  1.02020406],\n",
       "       [ 0.89257019, -0.55037082, -0.98019606],\n",
       "       [ 0.22397829, -0.37418169,  1.02020406],\n",
       "       [-0.15807423,  1.62262856,  1.02020406],\n",
       "       [-1.6862843 ,  0.12502088,  1.02020406],\n",
       "       [-0.63563988, -0.34481683,  1.02020406],\n",
       "       [ 0.31949142, -0.72655996,  1.02020406],\n",
       "       [ 0.41500455, -0.46227625,  1.02020406],\n",
       "       [-0.92217926, -0.96147882, -0.98019606],\n",
       "       [ 0.12846516,  0.09565602, -0.98019606],\n",
       "       [-0.92217926,  0.4480343 , -0.98019606],\n",
       "       [ 0.03295203, -0.55037082,  1.02020406],\n",
       "       [ 0.89257019, -0.78528968,  1.02020406],\n",
       "       [-0.0625611 ,  0.06629116,  1.02020406],\n",
       "       [ 1.08359645, -0.99084367, -0.98019606],\n",
       "       [ 0.70154394, -1.40195167,  1.02020406],\n",
       "       [-0.25358736,  0.06629116,  1.02020406],\n",
       "       [-1.30423178, -1.25512738, -0.98019606],\n",
       "       [-1.11320552, -1.02020853, -0.98019606],\n",
       "       [ 0.51051768,  1.85754742, -0.98019606],\n",
       "       [ 0.12846516,  0.21311545,  1.02020406],\n",
       "       [-0.54012675,  0.47739916, -0.98019606]])"
      ]
     },
     "execution_count": 87,
     "metadata": {},
     "output_type": "execute_result"
    }
   ],
   "source": [
    "X_train"
   ]
  },
  {
   "cell_type": "code",
   "execution_count": 88,
   "id": "32800742",
   "metadata": {},
   "outputs": [
    {
     "data": {
      "text/plain": [
       "258    1\n",
       "177    0\n",
       "119    0\n",
       "194    0\n",
       "229    1\n",
       "      ..\n",
       "71     0\n",
       "106    0\n",
       "270    0\n",
       "348    0\n",
       "102    0\n",
       "Name: Purchased, Length: 268, dtype: int64"
      ]
     },
     "execution_count": 88,
     "metadata": {},
     "output_type": "execute_result"
    }
   ],
   "source": [
    "y_train"
   ]
  },
  {
   "cell_type": "markdown",
   "id": "04ff6d57",
   "metadata": {},
   "source": [
    "# Using KNN"
   ]
  },
  {
   "cell_type": "code",
   "execution_count": 90,
   "id": "ab91eea3",
   "metadata": {},
   "outputs": [],
   "source": [
    "knn = KNeighborsClassifier(n_neighbors=1)\n",
    "\n"
   ]
  },
  {
   "cell_type": "code",
   "execution_count": 91,
   "id": "87aec2f5",
   "metadata": {},
   "outputs": [
    {
     "data": {
      "text/plain": [
       "KNeighborsClassifier(n_neighbors=1)"
      ]
     },
     "execution_count": 91,
     "metadata": {},
     "output_type": "execute_result"
    }
   ],
   "source": [
    "knn.fit(X_train,y_train)\n"
   ]
  },
  {
   "cell_type": "code",
   "execution_count": 92,
   "id": "1303d4e8",
   "metadata": {},
   "outputs": [],
   "source": [
    "pred = knn.predict(X_test)"
   ]
  },
  {
   "cell_type": "code",
   "execution_count": 93,
   "id": "bca4c650",
   "metadata": {},
   "outputs": [
    {
     "data": {
      "text/plain": [
       "array([1, 0, 0, 0, 0, 0, 1, 0, 0, 0, 0, 1, 0, 0, 0, 0, 1, 0, 0, 1, 0, 0,\n",
       "       1, 0, 0, 1, 0, 0, 1, 0, 1, 0, 1, 0, 1, 0, 0, 0, 0, 0, 1, 0, 0, 1,\n",
       "       0, 0, 0, 0, 0, 0, 0, 1, 0, 0, 0, 0, 1, 0, 0, 0, 0, 0, 1, 0, 0, 1,\n",
       "       1, 1, 0, 0, 0, 0, 0, 0, 1, 0, 1, 1, 0, 0, 0, 1, 1, 1, 1, 0, 0, 0,\n",
       "       0, 0, 1, 0, 0, 1, 0, 1, 1, 0, 0, 0, 1, 0, 1, 0, 0, 1, 1, 1, 1, 0,\n",
       "       0, 1, 1, 1, 1, 0, 0, 1, 0, 0, 0, 0, 1, 1, 1, 0, 0, 0, 0, 1, 1, 0],\n",
       "      dtype=int64)"
      ]
     },
     "execution_count": 93,
     "metadata": {},
     "output_type": "execute_result"
    }
   ],
   "source": [
    "pred"
   ]
  },
  {
   "cell_type": "markdown",
   "id": "16df2a50",
   "metadata": {},
   "source": [
    "# Prediction and Evaluation"
   ]
  },
  {
   "cell_type": "code",
   "execution_count": 95,
   "id": "7d452a1e",
   "metadata": {},
   "outputs": [
    {
     "name": "stdout",
     "output_type": "stream",
     "text": [
      "[[75  5]\n",
      " [11 41]]\n"
     ]
    }
   ],
   "source": [
    "print(confusion_matrix(y_test,pred))"
   ]
  },
  {
   "cell_type": "code",
   "execution_count": 96,
   "id": "1403fbf4",
   "metadata": {},
   "outputs": [
    {
     "name": "stdout",
     "output_type": "stream",
     "text": [
      "              precision    recall  f1-score   support\n",
      "\n",
      "           0       0.87      0.94      0.90        80\n",
      "           1       0.89      0.79      0.84        52\n",
      "\n",
      "    accuracy                           0.88       132\n",
      "   macro avg       0.88      0.86      0.87       132\n",
      "weighted avg       0.88      0.88      0.88       132\n",
      "\n"
     ]
    }
   ],
   "source": [
    "print(classification_report(y_test,pred))"
   ]
  },
  {
   "cell_type": "markdown",
   "id": "199fcb25",
   "metadata": {},
   "source": [
    "# Hyper Parameter tuning"
   ]
  },
  {
   "cell_type": "code",
   "execution_count": 106,
   "id": "32cdf932",
   "metadata": {},
   "outputs": [],
   "source": [
    "from sklearn.model_selection import GridSearchCV\n",
    "k_list = [*range(1,41)]\n"
   ]
  },
  {
   "cell_type": "code",
   "execution_count": 107,
   "id": "95926449",
   "metadata": {},
   "outputs": [],
   "source": [
    "parameters = {'n_neighbors': k_list}"
   ]
  },
  {
   "cell_type": "code",
   "execution_count": 108,
   "id": "7a6d3be1",
   "metadata": {},
   "outputs": [
    {
     "data": {
      "text/plain": [
       "[1,\n",
       " 2,\n",
       " 3,\n",
       " 4,\n",
       " 5,\n",
       " 6,\n",
       " 7,\n",
       " 8,\n",
       " 9,\n",
       " 10,\n",
       " 11,\n",
       " 12,\n",
       " 13,\n",
       " 14,\n",
       " 15,\n",
       " 16,\n",
       " 17,\n",
       " 18,\n",
       " 19,\n",
       " 20,\n",
       " 21,\n",
       " 22,\n",
       " 23,\n",
       " 24,\n",
       " 25,\n",
       " 26,\n",
       " 27,\n",
       " 28,\n",
       " 29,\n",
       " 30,\n",
       " 31,\n",
       " 32,\n",
       " 33,\n",
       " 34,\n",
       " 35,\n",
       " 36,\n",
       " 37,\n",
       " 38,\n",
       " 39,\n",
       " 40]"
      ]
     },
     "execution_count": 108,
     "metadata": {},
     "output_type": "execute_result"
    }
   ],
   "source": [
    "parameters['n_neighbors']"
   ]
  },
  {
   "cell_type": "code",
   "execution_count": 109,
   "id": "9abe6e03",
   "metadata": {},
   "outputs": [],
   "source": [
    "classifier = KNeighborsClassifier()"
   ]
  },
  {
   "cell_type": "code",
   "execution_count": 110,
   "id": "f2491ee3",
   "metadata": {},
   "outputs": [],
   "source": [
    "class_reg = GridSearchCV(classifier, param_grid=parameters,scoring='accuracy', cv=5)"
   ]
  },
  {
   "cell_type": "code",
   "execution_count": 111,
   "id": "7afa1a8f",
   "metadata": {},
   "outputs": [
    {
     "data": {
      "text/plain": [
       "GridSearchCV(cv=5, estimator=KNeighborsClassifier(),\n",
       "             param_grid={'n_neighbors': [1, 2, 3, 4, 5, 6, 7, 8, 9, 10, 11, 12,\n",
       "                                         13, 14, 15, 16, 17, 18, 19, 20, 21, 22,\n",
       "                                         23, 24, 25, 26, 27, 28, 29, 30, ...]},\n",
       "             scoring='accuracy')"
      ]
     },
     "execution_count": 111,
     "metadata": {},
     "output_type": "execute_result"
    }
   ],
   "source": [
    "class_reg.fit(X_train,y_train)"
   ]
  },
  {
   "cell_type": "code",
   "execution_count": 112,
   "id": "846818ff",
   "metadata": {},
   "outputs": [
    {
     "name": "stdout",
     "output_type": "stream",
     "text": [
      "{'n_neighbors': 7}\n"
     ]
    }
   ],
   "source": [
    "print(class_reg.best_params_)\n"
   ]
  },
  {
   "cell_type": "code",
   "execution_count": 113,
   "id": "da9eeb4b",
   "metadata": {},
   "outputs": [
    {
     "name": "stdout",
     "output_type": "stream",
     "text": [
      "0.8990216631726066\n"
     ]
    }
   ],
   "source": [
    "print(class_reg.best_score_)"
   ]
  },
  {
   "cell_type": "code",
   "execution_count": 114,
   "id": "bdf0ecf9",
   "metadata": {},
   "outputs": [],
   "source": [
    "y_pred = class_reg.predict(X_test)"
   ]
  },
  {
   "cell_type": "code",
   "execution_count": 116,
   "id": "de794da0",
   "metadata": {},
   "outputs": [],
   "source": [
    "from sklearn.metrics import accuracy_score, classification_report\n",
    "score = accuracy_score(y_pred,y_test)"
   ]
  },
  {
   "cell_type": "code",
   "execution_count": 117,
   "id": "523c72d9",
   "metadata": {},
   "outputs": [
    {
     "data": {
      "text/plain": [
       "0.9318181818181818"
      ]
     },
     "execution_count": 117,
     "metadata": {},
     "output_type": "execute_result"
    }
   ],
   "source": [
    "score"
   ]
  },
  {
   "cell_type": "code",
   "execution_count": 118,
   "id": "b60b54a6",
   "metadata": {},
   "outputs": [
    {
     "name": "stdout",
     "output_type": "stream",
     "text": [
      "              precision    recall  f1-score   support\n",
      "\n",
      "           0       0.95      0.94      0.94        80\n",
      "           1       0.91      0.92      0.91        52\n",
      "\n",
      "    accuracy                           0.93       132\n",
      "   macro avg       0.93      0.93      0.93       132\n",
      "weighted avg       0.93      0.93      0.93       132\n",
      "\n"
     ]
    }
   ],
   "source": [
    "print(classification_report(y_test,y_pred))"
   ]
  },
  {
   "cell_type": "code",
   "execution_count": 120,
   "id": "f0c867ee",
   "metadata": {},
   "outputs": [
    {
     "name": "stdout",
     "output_type": "stream",
     "text": [
      "[[75  5]\n",
      " [ 4 48]]\n"
     ]
    }
   ],
   "source": [
    "print(confusion_matrix(y_test,y_pred))"
   ]
  },
  {
   "cell_type": "markdown",
   "id": "c12349d5",
   "metadata": {},
   "source": [
    "### We got ~93% accuracy! But, to understand what we're doing here let's see some graphs. \n",
    "#### It's a graph that show us the error rate of every K value we take(we will quickly see the error rates of \n",
    "#### K values from 1 to 10)"
   ]
  },
  {
   "cell_type": "code",
   "execution_count": 127,
   "id": "e4ad0aff",
   "metadata": {},
   "outputs": [],
   "source": [
    "error_rate = [] #empty list for our error rates\n",
    "\n",
    "for i in range(1,10):  #A loop that iterates through K value from 1 to 10\n",
    "    knn_i = KNeighborsClassifier(n_neighbors=i)\n",
    "    knn_i.fit(X_train,y_train)\n",
    "    pred_i = knn.predict(X_test)\n",
    "    error_rate.append(np.mean(pred_i != y_test))"
   ]
  },
  {
   "cell_type": "code",
   "execution_count": 128,
   "id": "c72ecd2f",
   "metadata": {},
   "outputs": [
    {
     "data": {
      "text/plain": [
       "[0.12121212121212122,\n",
       " 0.12121212121212122,\n",
       " 0.12121212121212122,\n",
       " 0.12121212121212122,\n",
       " 0.12121212121212122,\n",
       " 0.12121212121212122,\n",
       " 0.12121212121212122,\n",
       " 0.12121212121212122,\n",
       " 0.12121212121212122]"
      ]
     },
     "execution_count": 128,
     "metadata": {},
     "output_type": "execute_result"
    }
   ],
   "source": [
    "error_rate"
   ]
  },
  {
   "cell_type": "code",
   "execution_count": 129,
   "id": "c5747605",
   "metadata": {},
   "outputs": [
    {
     "data": {
      "text/plain": [
       "Text(0, 0.5, 'Error Rate')"
      ]
     },
     "execution_count": 129,
     "metadata": {},
     "output_type": "execute_result"
    },
    {
     "data": {
      "image/png": "[encoded data removed]",
      "text/plain": [
       "<Figure size 864x576 with 1 Axes>"
      ]
     },
     "metadata": {
      "needs_background": "light"
     },
     "output_type": "display_data"
    }
   ],
   "source": [
    "## A graph of Error Rate vs K Value\n",
    "\n",
    "plt.figure(figsize=(12,8))\n",
    "plt.plot(range(1,10), error_rate, color = 'blue', linestyle='dashed', marker='o', markerfacecolor= 'red', markersize=10)\n",
    "plt.title('Error Rate vs K Value')\n",
    "plt.xlabel('K')\n",
    "plt.ylabel('Error Rate')"
   ]
  },
  {
   "cell_type": "code",
   "execution_count": null,
   "id": "d023406d",
   "metadata": {},
   "outputs": [],
   "source": []
  }
 ],
 "metadata": {
  "kernelspec": {
   "display_name": "Python 3 (ipykernel)",
   "language": "python",
   "name": "python3"
  },
  "language_info": {
   "codemirror_mode": {
    "name": "ipython",
    "version": 3
   },
   "file_extension": ".py",
   "mimetype": "text/x-python",
   "name": "python",
   "nbconvert_exporter": "python",
   "pygments_lexer": "ipython3",
   "version": "3.9.12"
  }
 },
 "nbformat": 4,
 "nbformat_minor": 5
}
